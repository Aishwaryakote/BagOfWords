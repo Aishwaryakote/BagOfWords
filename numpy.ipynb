{
  "nbformat": 4,
  "nbformat_minor": 0,
  "metadata": {
    "colab": {
      "name": "numpy ",
      "provenance": [],
      "collapsed_sections": [],
      "include_colab_link": true
    },
    "kernelspec": {
      "display_name": "Python 3",
      "name": "python3"
    }
  },
  "cells": [
    {
      "cell_type": "markdown",
      "metadata": {
        "id": "view-in-github",
        "colab_type": "text"
      },
      "source": [
        "<a href=\"https://colab.research.google.com/github/Aishwaryakote/BagOfWords/blob/main/numpy.ipynb\" target=\"_parent\"><img src=\"https://colab.research.google.com/assets/colab-badge.svg\" alt=\"Open In Colab\"/></a>"
      ]
    },
    {
      "cell_type": "markdown",
      "metadata": {
        "id": "gbq8tJ2X3iBi"
      },
      "source": [
        "NUMPY\n"
      ]
    },
    {
      "cell_type": "markdown",
      "metadata": {
        "id": "bnqJgwQx36yB"
      },
      "source": [
        "1. Create a NumPy ndarray Object\n",
        "NumPy is used to work with arrays. The array object in NumPy is called ndarray.\n",
        "\n",
        "We can create a NumPy ndarray object by using the array() function."
      ]
    },
    {
      "cell_type": "code",
      "metadata": {
        "id": "pf8jIPS2H0zx"
      },
      "source": [
        "from google.colab import drive\n",
        "drive.mount('/content/drive')"
      ],
      "execution_count": null,
      "outputs": []
    },
    {
      "cell_type": "code",
      "metadata": {
        "colab": {
          "base_uri": "https://localhost:8080/"
        },
        "id": "q8PBzt843_NZ",
        "outputId": "6929159e-8ce4-490b-85df-19c51b9e5fff"
      },
      "source": [
        "import numpy as np\n",
        "\n",
        "arr = np.array([1, 2, 3, 4, 5])\n",
        "\n",
        "print(arr)\n",
        "\n",
        "print(type(arr))"
      ],
      "execution_count": null,
      "outputs": [
        {
          "output_type": "stream",
          "name": "stdout",
          "text": [
            "[1 2 3 4 5]\n",
            "<class 'numpy.ndarray'>\n"
          ]
        }
      ]
    },
    {
      "cell_type": "markdown",
      "metadata": {
        "id": "lceH-TUC4fmN"
      },
      "source": [
        "1.1 0-D Arrays\n",
        "0-D arrays, or Scalars, are the elements in an array. Each value in an array is a 0-D array."
      ]
    },
    {
      "cell_type": "code",
      "metadata": {
        "colab": {
          "base_uri": "https://localhost:8080/"
        },
        "id": "vUxU7EhB4iOB",
        "outputId": "f4ce78ba-c645-4f6e-c256-3a52a529f249"
      },
      "source": [
        "import numpy as np\n",
        "\n",
        "arr = np.array([1, 2, 3, 4, 5])\n",
        "\n",
        "print(arr)"
      ],
      "execution_count": null,
      "outputs": [
        {
          "output_type": "stream",
          "name": "stdout",
          "text": [
            "[1 2 3 4 5]\n"
          ]
        }
      ]
    },
    {
      "cell_type": "markdown",
      "metadata": {
        "id": "fUWzMUCE4rVI"
      },
      "source": [
        "1.2 2-D Arrays\n",
        "An array that has 1-D arrays as its elements is called a 2-D array.\n",
        "\n",
        "These are often used to represent matrix or 2nd order tensors."
      ]
    },
    {
      "cell_type": "code",
      "metadata": {
        "colab": {
          "base_uri": "https://localhost:8080/"
        },
        "id": "7syTAj8N40DS",
        "outputId": "7fb3d663-0c94-47d5-9377-90ad0f9c322e"
      },
      "source": [
        "import numpy as np\n",
        "\n",
        "arr = np.array([[1, 2, 3], [4, 5, 6]])\n",
        "\n",
        "print(arr)"
      ],
      "execution_count": null,
      "outputs": [
        {
          "output_type": "stream",
          "name": "stdout",
          "text": [
            "[[1 2 3]\n",
            " [4 5 6]]\n"
          ]
        }
      ]
    },
    {
      "cell_type": "markdown",
      "metadata": {
        "id": "c-9GR9tB8HnW"
      },
      "source": [
        "creating array of zeroes"
      ]
    },
    {
      "cell_type": "code",
      "metadata": {
        "colab": {
          "base_uri": "https://localhost:8080/"
        },
        "id": "nqa6mK4X8zI6",
        "outputId": "f3906635-73d0-4507-f641-c9f5a471327b"
      },
      "source": [
        "import numpy as np\n",
        "np.zeros((2,2))"
      ],
      "execution_count": null,
      "outputs": [
        {
          "output_type": "execute_result",
          "data": {
            "text/plain": [
              "array([[0., 0.],\n",
              "       [0., 0.]])"
            ]
          },
          "metadata": {},
          "execution_count": 18
        }
      ]
    },
    {
      "cell_type": "markdown",
      "metadata": {
        "id": "ECekN-1Q81MM"
      },
      "source": [
        "creating array of ones"
      ]
    },
    {
      "cell_type": "code",
      "metadata": {
        "colab": {
          "base_uri": "https://localhost:8080/"
        },
        "id": "A8vLBgFJ9aYY",
        "outputId": "00435dc6-2802-4168-9af9-dd2a210bdcab"
      },
      "source": [
        "import numpy as np\n",
        "\n",
        "array_1d = np.ones(3)\n",
        "print(array_1d)"
      ],
      "execution_count": null,
      "outputs": [
        {
          "output_type": "stream",
          "name": "stdout",
          "text": [
            "[1. 1. 1.]\n"
          ]
        }
      ]
    },
    {
      "cell_type": "markdown",
      "metadata": {
        "id": "w6py1Cp544Wx"
      },
      "source": [
        "2. Check Number of Dimensions?\n",
        "NumPy Arrays provides the ndim attribute that returns an integer that tells us how many dimensions the array have."
      ]
    },
    {
      "cell_type": "code",
      "metadata": {
        "colab": {
          "base_uri": "https://localhost:8080/"
        },
        "id": "yJ_Zs3LH5DQu",
        "outputId": "e0f2a7ec-50d0-4e46-b96a-bc5b3cf89cfa"
      },
      "source": [
        "import numpy as np\n",
        "\n",
        "a = np.array(42)\n",
        "b = np.array([1, 2, 3, 4, 5])\n",
        "c = np.array([[1, 2, 3], [4, 5, 6]])\n",
        "d = np.array([[[1, 2, 3], [4, 5, 6]], [[1, 2, 3], [4, 5, 6]]])\n",
        "\n",
        "print(a.ndim)\n",
        "print(b.ndim)\n",
        "print(c.ndim)\n",
        "print(d.ndim)"
      ],
      "execution_count": null,
      "outputs": [
        {
          "output_type": "stream",
          "name": "stdout",
          "text": [
            "0\n",
            "1\n",
            "2\n",
            "3\n"
          ]
        }
      ]
    },
    {
      "cell_type": "markdown",
      "metadata": {
        "id": "uJSyecqF5MMB"
      },
      "source": [
        "3. Access Array Elements\n",
        "Array indexing is the same as accessing an array element.\n",
        "\n",
        "You can access an array element by referring to its index number.\n",
        "\n",
        "The indexes in NumPy arrays start with 0, meaning that the first element has index 0, and the second has index 1 etc."
      ]
    },
    {
      "cell_type": "code",
      "metadata": {
        "colab": {
          "base_uri": "https://localhost:8080/"
        },
        "id": "xdyDMemW5WAJ",
        "outputId": "8abc6c8a-64f0-4f4a-8fc7-d1269656a054"
      },
      "source": [
        "import numpy as np\n",
        "\n",
        "arr = np.array([1, 2, 3, 4])\n",
        "\n",
        "print(arr[0])\n",
        "print(arr[1])"
      ],
      "execution_count": null,
      "outputs": [
        {
          "output_type": "stream",
          "name": "stdout",
          "text": [
            "1\n",
            "2\n"
          ]
        }
      ]
    },
    {
      "cell_type": "markdown",
      "metadata": {
        "id": "t_LgC46E5pC1"
      },
      "source": [
        "Access 2-D Arrays\n",
        "To access elements from 2-D arrays we can use comma separated integers representing the dimension and the index of the element.\n",
        "\n"
      ]
    },
    {
      "cell_type": "code",
      "metadata": {
        "colab": {
          "base_uri": "https://localhost:8080/"
        },
        "id": "8KZb9USY5qTN",
        "outputId": "204ac768-4667-4694-ef50-53fcc3f0a1cc"
      },
      "source": [
        "import numpy as np\n",
        "\n",
        "arr = np.array([[1,2,3,4,5], [6,7,8,9,10]])\n",
        "\n",
        "print('2nd element on 1st dim: ', arr[0, 1])\n",
        "print('5th element on 2nd dim: ', arr[1, 4])\n"
      ],
      "execution_count": null,
      "outputs": [
        {
          "output_type": "stream",
          "name": "stdout",
          "text": [
            "2nd element on 1st dim:  2\n",
            "5th element on 2nd dim:  10\n"
          ]
        }
      ]
    },
    {
      "cell_type": "markdown",
      "metadata": {
        "id": "op2N_Ywy59oi"
      },
      "source": [
        "4. Checking the Data Type of an Array\n",
        "The NumPy array object has a property called dtype that returns the data type of the array:"
      ]
    },
    {
      "cell_type": "code",
      "metadata": {
        "colab": {
          "base_uri": "https://localhost:8080/"
        },
        "id": "smrM8t5r5_QG",
        "outputId": "a7a38434-e533-44fe-f32d-0045e8ff51fd"
      },
      "source": [
        "import numpy as np\n",
        "\n",
        "arr = np.array([1, 2, 3, 4])\n",
        "\n",
        "print(arr.dtype)"
      ],
      "execution_count": null,
      "outputs": [
        {
          "output_type": "stream",
          "name": "stdout",
          "text": [
            "int64\n"
          ]
        }
      ]
    },
    {
      "cell_type": "code",
      "metadata": {
        "colab": {
          "base_uri": "https://localhost:8080/"
        },
        "id": "QbzGACVy6DGF",
        "outputId": "fda1540f-c356-4037-ff27-7e137e5d83f1"
      },
      "source": [
        "import numpy as np\n",
        "\n",
        "arr = np.array(['apple', 'banana', 'cherry'])\n",
        "\n",
        "print(arr.dtype)"
      ],
      "execution_count": null,
      "outputs": [
        {
          "output_type": "stream",
          "name": "stdout",
          "text": [
            "<U6\n"
          ]
        }
      ]
    },
    {
      "cell_type": "markdown",
      "metadata": {
        "id": "_cxDPlv96W8B"
      },
      "source": [
        "4. Slicing arrays\n",
        "Slicing in python means taking elements from one given index to another given index.\n",
        "\n",
        "We pass slice instead of index like this: [start:end].\n",
        "\n",
        "We can also define the step, like this: [start:end:step].\n",
        "Note: The result includes the start index, but excludes the end index.\n",
        "\n",
        "If we don't pass start its considered 0\n",
        "\n",
        "If we don't pass end its considered length of array in that dimension\n",
        "\n",
        "If we don't pass step its considered 1"
      ]
    },
    {
      "cell_type": "code",
      "metadata": {
        "colab": {
          "base_uri": "https://localhost:8080/"
        },
        "id": "s27fNnVi6ZZ6",
        "outputId": "c0109c2a-3c2e-45b0-e52a-0f1d50c7076f"
      },
      "source": [
        "import numpy as np\n",
        "\n",
        "arr = np.array([1, 2, 3, 4, 5, 6, 7])\n",
        "\n",
        "print(arr[1:5])"
      ],
      "execution_count": null,
      "outputs": [
        {
          "output_type": "stream",
          "name": "stdout",
          "text": [
            "[2 3 4 5]\n"
          ]
        }
      ]
    },
    {
      "cell_type": "code",
      "metadata": {
        "colab": {
          "base_uri": "https://localhost:8080/"
        },
        "id": "hn29afku6x_k",
        "outputId": "51146c36-fc8d-4d33-ce6c-c4b84ad01550"
      },
      "source": [
        "import numpy as np\n",
        "\n",
        "arr = np.array([1, 2, 3, 4, 5, 6, 7])\n",
        "\n",
        "print(arr[4:])"
      ],
      "execution_count": null,
      "outputs": [
        {
          "output_type": "stream",
          "name": "stdout",
          "text": [
            "[5 6 7]\n"
          ]
        }
      ]
    },
    {
      "cell_type": "code",
      "metadata": {
        "colab": {
          "base_uri": "https://localhost:8080/"
        },
        "id": "hvpRXW_Z65hN",
        "outputId": "3c74a155-968c-4d7c-88c4-015b9944a339"
      },
      "source": [
        "import numpy as np\n",
        "\n",
        "arr = np.array([1, 2, 3, 4, 5, 6, 7])\n",
        "\n",
        "print(arr[:4])"
      ],
      "execution_count": null,
      "outputs": [
        {
          "output_type": "stream",
          "name": "stdout",
          "text": [
            "[1 2 3 4]\n"
          ]
        }
      ]
    },
    {
      "cell_type": "code",
      "metadata": {
        "colab": {
          "base_uri": "https://localhost:8080/"
        },
        "id": "KtaG1TZr7FwB",
        "outputId": "f31ad172-2b47-4d07-eef4-d9746247416f"
      },
      "source": [
        "import numpy as np\n",
        "\n",
        "arr = np.array([[1, 2, 3, 4, 5], [6, 7, 8, 9, 10]])\n",
        "\n",
        "print(arr[0:2, 1:4])"
      ],
      "execution_count": null,
      "outputs": [
        {
          "output_type": "stream",
          "name": "stdout",
          "text": [
            "[[2 3 4]\n",
            " [7 8 9]]\n"
          ]
        }
      ]
    },
    {
      "cell_type": "markdown",
      "metadata": {
        "id": "NwgQ_-lU7PgU"
      },
      "source": [
        "5. The shape of an array is the number of elements in each dimension.\n",
        "\n",
        "Get the Shape of an Array\n",
        "NumPy arrays have an attribute called shape that returns a tuple with each index having the number of corresponding elements."
      ]
    },
    {
      "cell_type": "code",
      "metadata": {
        "colab": {
          "base_uri": "https://localhost:8080/"
        },
        "id": "-cenoUuQ7RcB",
        "outputId": "d6223436-f398-4150-9707-10bff3771242"
      },
      "source": [
        "import numpy as np\n",
        "\n",
        "arr = np.array([[1, 2, 3, 4], [5, 6, 7, 8]])\n",
        "\n",
        "print(arr.shape)"
      ],
      "execution_count": null,
      "outputs": [
        {
          "output_type": "stream",
          "name": "stdout",
          "text": [
            "(2, 4)\n"
          ]
        }
      ]
    },
    {
      "cell_type": "markdown",
      "metadata": {
        "id": "u66PSpTK7hgj"
      },
      "source": [
        "6. Reshaping arrays\n",
        "Reshaping means changing the shape of an array.\n",
        "\n",
        "The shape of an array is the number of elements in each dimension.\n",
        "\n",
        "By reshaping we can add or remove dimensions or change number of elements in each dimension."
      ]
    },
    {
      "cell_type": "code",
      "metadata": {
        "colab": {
          "base_uri": "https://localhost:8080/"
        },
        "id": "YS1G8ndb7jQd",
        "outputId": "0ebbf636-f81c-413b-bdb2-ad0822a14146"
      },
      "source": [
        "import numpy as np\n",
        "\n",
        "arr = np.array([1, 2, 3, 4, 5, 6, 7, 8, 9, 10, 11, 12])\n",
        "\n",
        "newarr = arr.reshape(4, 3)\n",
        "\n",
        "print(newarr)"
      ],
      "execution_count": null,
      "outputs": [
        {
          "output_type": "stream",
          "name": "stdout",
          "text": [
            "[[ 1  2  3]\n",
            " [ 4  5  6]\n",
            " [ 7  8  9]\n",
            " [10 11 12]]\n"
          ]
        }
      ]
    },
    {
      "cell_type": "markdown",
      "metadata": {
        "id": "k_Zy7vnP7wgM"
      },
      "source": [
        "6.1 Flattening the arrays\n",
        "Flattening array means converting a multidimensional array into a 1D array.\n",
        "\n",
        "We can use reshape(-1) to do this."
      ]
    },
    {
      "cell_type": "code",
      "metadata": {
        "colab": {
          "base_uri": "https://localhost:8080/"
        },
        "id": "RR4wvHoR7zRA",
        "outputId": "6c984c31-5aa9-46e2-9b80-cd21e36f1826"
      },
      "source": [
        "import numpy as np\n",
        "\n",
        "arr = np.array([[1, 2, 3], [4, 5, 6]])\n",
        "\n",
        "newarr = arr.reshape(-1)\n",
        "\n",
        "print(newarr)\n"
      ],
      "execution_count": null,
      "outputs": [
        {
          "output_type": "stream",
          "name": "stdout",
          "text": [
            "[1 2 3 4 5 6]\n"
          ]
        }
      ]
    },
    {
      "cell_type": "markdown",
      "metadata": {
        "id": "2_splgno9epi"
      },
      "source": [
        "7. Array math\n",
        "We can use overloaded arithmetic operators to do element-wise operation on array to create a new array. In case of +=, -=, *= operators, the exsisting array is modified."
      ]
    },
    {
      "cell_type": "code",
      "metadata": {
        "colab": {
          "base_uri": "https://localhost:8080/"
        },
        "id": "Yjuox-2-9mVQ",
        "outputId": "d3328724-15fb-47f8-fbf9-adb1d6c96e43"
      },
      "source": [
        "import numpy as np\n",
        "  \n",
        "a = np.array([1, 2, 5, 3])\n",
        "  \n",
        "# add 1 to every element\n",
        "print (\"Adding 1 to every element:\", a+1)\n",
        "  \n",
        "# subtract 3 from each element\n",
        "print (\"Subtracting 3 from each element:\", a-3)\n",
        "  \n",
        "# multiply each element by 10\n",
        "print (\"Multiplying each element by 10:\", a*10)\n",
        "  \n",
        "# square each element\n",
        "print (\"Squaring each element:\", a**2)\n",
        "  \n",
        "# modify existing array\n",
        "a *= 2\n",
        "print (\"Doubled each element of original array:\", a)\n",
        "  \n",
        "# transpose of array\n",
        "a = np.array([[1, 2, 3], [3, 4, 5], [9, 6, 0]])\n",
        "  \n",
        "print (\"\\nOriginal array:\\n\", a)\n",
        "print (\"Transpose of array:\\n\", a.T)"
      ],
      "execution_count": null,
      "outputs": [
        {
          "output_type": "stream",
          "name": "stdout",
          "text": [
            "Adding 1 to every element: [2 3 6 4]\n",
            "Subtracting 3 from each element: [-2 -1  2  0]\n",
            "Multiplying each element by 10: [10 20 50 30]\n",
            "Squaring each element: [ 1  4 25  9]\n",
            "Doubled each element of original array: [ 2  4 10  6]\n",
            "\n",
            "Original array:\n",
            " [[1 2 3]\n",
            " [3 4 5]\n",
            " [9 6 0]]\n",
            "Transpose of array:\n",
            " [[1 3 9]\n",
            " [2 4 6]\n",
            " [3 5 0]]\n"
          ]
        }
      ]
    },
    {
      "cell_type": "markdown",
      "metadata": {
        "id": "Q-A0F-C290sp"
      },
      "source": [
        "Unary operators: Many unary operations are provided as a method of ndarray class. This includes sum, min, max, etc. These functions can also be applied row-wise or column-wise by setting an axis parameter."
      ]
    },
    {
      "cell_type": "code",
      "metadata": {
        "colab": {
          "base_uri": "https://localhost:8080/"
        },
        "id": "gTdX0ndc99Ju",
        "outputId": "9afe92a9-504b-4345-888b-14e5cd3653bd"
      },
      "source": [
        "import numpy as np\n",
        "  \n",
        "arr = np.array([[1, 5, 6],\n",
        "                [4, 7, 2],\n",
        "                [3, 1, 9]])\n",
        "  \n",
        "# maximum element of array\n",
        "print (\"Largest element is:\", arr.max())\n",
        "print (\"Row-wise maximum elements:\",\n",
        "                    arr.max(axis = 1))\n",
        "  \n",
        "# minimum element of array\n",
        "print (\"Column-wise minimum elements:\",\n",
        "                        arr.min(axis = 0))\n",
        "  \n",
        "# sum of array elements\n",
        "print (\"Sum of all array elements:\",\n",
        "                            arr.sum())\n",
        "  \n",
        "# cumulative sum along each row\n",
        "print (\"Cumulative sum along each row:\\n\",\n",
        "                        arr.cumsum(axis = 1))"
      ],
      "execution_count": null,
      "outputs": [
        {
          "output_type": "stream",
          "name": "stdout",
          "text": [
            "Largest element is: 9\n",
            "Row-wise maximum elements: [6 7 9]\n",
            "Column-wise minimum elements: [1 1 2]\n",
            "Sum of all array elements: 38\n",
            "Cumulative sum along each row:\n",
            " [[ 1  6 12]\n",
            " [ 4 11 13]\n",
            " [ 3  4 13]]\n"
          ]
        }
      ]
    },
    {
      "cell_type": "markdown",
      "metadata": {
        "id": "yj2rpywV-BXa"
      },
      "source": [
        "Binary operators: These operations apply on array elementwise and a new array is created. You can use all basic arithmetic operators like +, -, /, , etc. In case of +=, -=, = operators, the exsisting array is modified."
      ]
    },
    {
      "cell_type": "code",
      "metadata": {
        "colab": {
          "base_uri": "https://localhost:8080/"
        },
        "id": "svWcDZhB-Em_",
        "outputId": "63752542-374b-470d-eb8f-a5359872f9d4"
      },
      "source": [
        "import numpy as np\n",
        "  \n",
        "a = np.array([[1, 2],\n",
        "            [3, 4]])\n",
        "b = np.array([[4, 3],\n",
        "            [2, 1]])\n",
        "  \n",
        "# add arrays\n",
        "print (\"Array sum:\\n\", a + b)\n",
        "  \n",
        "# multiply arrays (elementwise multiplication)\n",
        "print (\"Array multiplication:\\n\", a*b)\n",
        "  \n",
        "# matrix multiplication\n",
        "print (\"Matrix multiplication:\\n\", a.dot(b))"
      ],
      "execution_count": null,
      "outputs": [
        {
          "output_type": "stream",
          "name": "stdout",
          "text": [
            "Array sum:\n",
            " [[5 5]\n",
            " [5 5]]\n",
            "Array multiplication:\n",
            " [[4 6]\n",
            " [6 4]]\n",
            "Matrix multiplication:\n",
            " [[ 8  5]\n",
            " [20 13]]\n"
          ]
        }
      ]
    },
    {
      "cell_type": "markdown",
      "metadata": {
        "id": "9ZWuhLeg-IyX"
      },
      "source": [
        "8. Sorting Arrays\n",
        "Sorting means putting elements in an ordered sequence.\n",
        "\n",
        "Ordered sequence is any sequence that has an order corresponding to elements, like numeric or alphabetical, ascending or descending.\n",
        "\n",
        "The NumPy ndarray object has a function called sort(), that will sort a specified array."
      ]
    },
    {
      "cell_type": "code",
      "metadata": {
        "colab": {
          "base_uri": "https://localhost:8080/"
        },
        "id": "3jvaJZET-UQE",
        "outputId": "555b698c-4dbf-40a6-efc7-a633c21932e7"
      },
      "source": [
        "import numpy as np\n",
        "\n",
        "arr = np.array([3, 2, 0, 1])\n",
        "\n",
        "print(np.sort(arr))"
      ],
      "execution_count": null,
      "outputs": [
        {
          "output_type": "stream",
          "name": "stdout",
          "text": [
            "[0 1 2 3]\n"
          ]
        }
      ]
    },
    {
      "cell_type": "markdown",
      "metadata": {
        "id": "cBW5NOAp-dTO"
      },
      "source": [
        "You can also sort arrays of strings, or any other data type:"
      ]
    },
    {
      "cell_type": "code",
      "metadata": {
        "colab": {
          "base_uri": "https://localhost:8080/"
        },
        "id": "Ve17t-xt-eKy",
        "outputId": "f7d8b094-d31c-4549-ce20-af1b62e5ab6c"
      },
      "source": [
        "import numpy as np\n",
        "\n",
        "arr = np.array(['banana', 'cherry', 'apple'])\n",
        "\n",
        "print(np.sort(arr))"
      ],
      "execution_count": null,
      "outputs": [
        {
          "output_type": "stream",
          "name": "stdout",
          "text": [
            "['apple' 'banana' 'cherry']\n"
          ]
        }
      ]
    },
    {
      "cell_type": "markdown",
      "metadata": {
        "id": "Fu6pmkuL-lUl"
      },
      "source": [
        "Sorting a 2-D Array\n",
        "If you use the sort() method on a 2-D array, both arrays will be sorted:"
      ]
    },
    {
      "cell_type": "code",
      "metadata": {
        "colab": {
          "base_uri": "https://localhost:8080/"
        },
        "id": "GhzE7Bmf-mdO",
        "outputId": "f7dc78f4-832a-43ff-b9a4-bbd79eaeedd1"
      },
      "source": [
        "import numpy as np\n",
        "\n",
        "arr = np.array([[3, 2, 4], [5, 0, 1]])\n",
        "\n",
        "print(np.sort(arr))"
      ],
      "execution_count": null,
      "outputs": [
        {
          "output_type": "stream",
          "name": "stdout",
          "text": [
            "[[2 3 4]\n",
            " [0 1 5]]\n"
          ]
        }
      ]
    },
    {
      "cell_type": "markdown",
      "metadata": {
        "id": "j_B0fI1y-3pv"
      },
      "source": [
        "9.  Searching Arrays\n",
        "You can search an array for a certain value, and return the indexes that get a match.\n",
        "\n",
        "To search an array, use the where() method."
      ]
    },
    {
      "cell_type": "code",
      "metadata": {
        "colab": {
          "base_uri": "https://localhost:8080/"
        },
        "id": "nEd9PP-q-5KW",
        "outputId": "9f7ffb40-9c87-4768-c2c2-b09c56d10c00"
      },
      "source": [
        "import numpy as np\n",
        "\n",
        "arr = np.array([1, 2, 3, 4, 5, 4, 4])\n",
        "\n",
        "x = np.where(arr == 4)\n",
        "\n",
        "print(x)"
      ],
      "execution_count": null,
      "outputs": [
        {
          "output_type": "stream",
          "name": "stdout",
          "text": [
            "(array([3, 5, 6]),)\n"
          ]
        }
      ]
    },
    {
      "cell_type": "markdown",
      "metadata": {
        "id": "4lX-ddLk_On2"
      },
      "source": [
        "The example above will return a tuple: (array([3, 5, 6],)\n",
        "\n",
        "Which means that the value 4 is present at index 3, 5, and 6."
      ]
    },
    {
      "cell_type": "markdown",
      "metadata": {
        "id": "SIuqiVOL_TPT"
      },
      "source": [
        "Joining NumPy Arrays\n",
        "Joining means putting contents of two or more arrays in a single array.\n",
        "\n",
        "In SQL we join tables based on a key, whereas in NumPy we join arrays by axes."
      ]
    },
    {
      "cell_type": "code",
      "metadata": {
        "colab": {
          "base_uri": "https://localhost:8080/"
        },
        "id": "UIw7Tfbp_xCS",
        "outputId": "c940c9d9-93af-4ea4-a516-b88cbcd05af4"
      },
      "source": [
        "import numpy as np\n",
        "\n",
        "arr1 = np.array([1, 2, 3])\n",
        "\n",
        "arr2 = np.array([4, 5, 6])\n",
        "\n",
        "arr = np.concatenate((arr1, arr2))\n",
        "\n",
        "print(arr)"
      ],
      "execution_count": null,
      "outputs": [
        {
          "output_type": "stream",
          "name": "stdout",
          "text": [
            "[1 2 3 4 5 6]\n"
          ]
        }
      ]
    },
    {
      "cell_type": "markdown",
      "metadata": {
        "id": "4tw_b19k_1pe"
      },
      "source": [
        "Join two 2-D arrays along rows (axis=1):"
      ]
    },
    {
      "cell_type": "code",
      "metadata": {
        "colab": {
          "base_uri": "https://localhost:8080/"
        },
        "id": "V0udFSxA_6U6",
        "outputId": "e798e670-e5d2-46a1-e2cb-d2f6431c0705"
      },
      "source": [
        "import numpy as np\n",
        "\n",
        "arr1 = np.array([[1, 2], [3, 4]])\n",
        "\n",
        "arr2 = np.array([[5, 6], [7, 8]])\n",
        "\n",
        "arr = np.concatenate((arr1, arr2), axis=1)\n",
        "\n",
        "print(arr)"
      ],
      "execution_count": null,
      "outputs": [
        {
          "output_type": "stream",
          "name": "stdout",
          "text": [
            "[[1 2 5 6]\n",
            " [3 4 7 8]]\n"
          ]
        }
      ]
    },
    {
      "cell_type": "markdown",
      "metadata": {
        "id": "4SMLiGwkNUJ8"
      },
      "source": [
        "10 . Splitting NumPy Arrays\n",
        "Splitting is reverse operation of Joining.\n",
        "\n",
        "Joining merges multiple arrays into one and Splitting breaks one array into multiple.\n",
        "\n",
        "We use array_split() for splitting arrays, we pass it the array we want to split and the number of splits."
      ]
    },
    {
      "cell_type": "code",
      "metadata": {
        "id": "trQbraeGNXJP",
        "colab": {
          "base_uri": "https://localhost:8080/"
        },
        "outputId": "5be7cbfa-2b1a-4a92-ede7-1c37401e5c2a"
      },
      "source": [
        "import numpy as np\n",
        "\n",
        "arr = np.array([1, 2, 3, 4, 5, 6])\n",
        "\n",
        "newarr = np.array_split(arr, 3)\n",
        "\n",
        "print(newarr)"
      ],
      "execution_count": null,
      "outputs": [
        {
          "output_type": "stream",
          "name": "stdout",
          "text": [
            "[array([1, 2]), array([3, 4]), array([5, 6])]\n"
          ]
        }
      ]
    },
    {
      "cell_type": "markdown",
      "metadata": {
        "id": "9Z6TI7lJNdFo"
      },
      "source": [
        "Note: The return value is an array containing three arrays."
      ]
    },
    {
      "cell_type": "markdown",
      "metadata": {
        "id": "ErQ1Y-qlNg0x"
      },
      "source": [
        "If the array has less elements than required, it will adjust from the end accordingly."
      ]
    },
    {
      "cell_type": "code",
      "metadata": {
        "id": "U85iERaONvqH",
        "colab": {
          "base_uri": "https://localhost:8080/"
        },
        "outputId": "30f8aeeb-1880-4a74-a4b5-d4286502e0fe"
      },
      "source": [
        "import numpy as np\n",
        "\n",
        "arr = np.array([1, 2, 3, 4, 5, 6])\n",
        "\n",
        "newarr = np.array_split(arr, 4)\n",
        "\n",
        "print(newarr)\n"
      ],
      "execution_count": null,
      "outputs": [
        {
          "output_type": "stream",
          "name": "stdout",
          "text": [
            "[array([1, 2]), array([3, 4]), array([5]), array([6])]\n"
          ]
        }
      ]
    },
    {
      "cell_type": "markdown",
      "metadata": {
        "id": "ijUuxYlBN0QY"
      },
      "source": [
        "Split the 2-D array into three 2-D arrays."
      ]
    },
    {
      "cell_type": "code",
      "metadata": {
        "id": "-uaiBUmFOL_d",
        "colab": {
          "base_uri": "https://localhost:8080/"
        },
        "outputId": "06df2afc-3a17-4eb5-e392-4c166daec2e2"
      },
      "source": [
        "import numpy as np\n",
        "\n",
        "arr = np.array([[1, 2], [3, 4], [5, 6], [7, 8], [9, 10], [11, 12]])\n",
        "\n",
        "newarr = np.array_split(arr, 3)\n",
        "\n",
        "print(newarr)"
      ],
      "execution_count": null,
      "outputs": [
        {
          "output_type": "stream",
          "name": "stdout",
          "text": [
            "[array([[1, 2],\n",
            "       [3, 4]]), array([[5, 6],\n",
            "       [7, 8]]), array([[ 9, 10],\n",
            "       [11, 12]])]\n"
          ]
        }
      ]
    },
    {
      "cell_type": "markdown",
      "metadata": {
        "id": "NbjElgcyOTVb"
      },
      "source": [
        "The example above returns three 2-D arrays."
      ]
    }
  ]
}